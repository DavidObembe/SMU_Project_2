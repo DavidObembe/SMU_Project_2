{
 "cells": [
  {
   "cell_type": "code",
   "execution_count": 1,
   "metadata": {},
   "outputs": [],
   "source": [
    "import pandas as pd\n",
    "import matplotlib.pyplot as plt\n",
    "import numpy as np"
   ]
  },
  {
   "cell_type": "code",
   "execution_count": 2,
   "metadata": {},
   "outputs": [],
   "source": [
    "file = \"US_Accidents_June20.csv\""
   ]
  },
  {
   "cell_type": "code",
   "execution_count": 3,
   "metadata": {},
   "outputs": [],
   "source": [
    "df = pd.read_csv(file)"
   ]
  },
  {
   "cell_type": "code",
   "execution_count": 4,
   "metadata": {},
   "outputs": [
    {
     "data": {
      "text/html": [
       "<div>\n",
       "<style scoped>\n",
       "    .dataframe tbody tr th:only-of-type {\n",
       "        vertical-align: middle;\n",
       "    }\n",
       "\n",
       "    .dataframe tbody tr th {\n",
       "        vertical-align: top;\n",
       "    }\n",
       "\n",
       "    .dataframe thead th {\n",
       "        text-align: right;\n",
       "    }\n",
       "</style>\n",
       "<table border=\"1\" class=\"dataframe\">\n",
       "  <thead>\n",
       "    <tr style=\"text-align: right;\">\n",
       "      <th></th>\n",
       "      <th>ID</th>\n",
       "      <th>Source</th>\n",
       "      <th>TMC</th>\n",
       "      <th>Severity</th>\n",
       "      <th>Start_Time</th>\n",
       "      <th>End_Time</th>\n",
       "      <th>Start_Lat</th>\n",
       "      <th>Start_Lng</th>\n",
       "      <th>End_Lat</th>\n",
       "      <th>End_Lng</th>\n",
       "      <th>...</th>\n",
       "      <th>Roundabout</th>\n",
       "      <th>Station</th>\n",
       "      <th>Stop</th>\n",
       "      <th>Traffic_Calming</th>\n",
       "      <th>Traffic_Signal</th>\n",
       "      <th>Turning_Loop</th>\n",
       "      <th>Sunrise_Sunset</th>\n",
       "      <th>Civil_Twilight</th>\n",
       "      <th>Nautical_Twilight</th>\n",
       "      <th>Astronomical_Twilight</th>\n",
       "    </tr>\n",
       "  </thead>\n",
       "  <tbody>\n",
       "    <tr>\n",
       "      <th>0</th>\n",
       "      <td>A-1</td>\n",
       "      <td>MapQuest</td>\n",
       "      <td>201.0</td>\n",
       "      <td>3</td>\n",
       "      <td>2016-02-08 05:46:00</td>\n",
       "      <td>2016-02-08 11:00:00</td>\n",
       "      <td>39.865147</td>\n",
       "      <td>-84.058723</td>\n",
       "      <td>NaN</td>\n",
       "      <td>NaN</td>\n",
       "      <td>...</td>\n",
       "      <td>False</td>\n",
       "      <td>False</td>\n",
       "      <td>False</td>\n",
       "      <td>False</td>\n",
       "      <td>False</td>\n",
       "      <td>False</td>\n",
       "      <td>Night</td>\n",
       "      <td>Night</td>\n",
       "      <td>Night</td>\n",
       "      <td>Night</td>\n",
       "    </tr>\n",
       "    <tr>\n",
       "      <th>1</th>\n",
       "      <td>A-2</td>\n",
       "      <td>MapQuest</td>\n",
       "      <td>201.0</td>\n",
       "      <td>2</td>\n",
       "      <td>2016-02-08 06:07:59</td>\n",
       "      <td>2016-02-08 06:37:59</td>\n",
       "      <td>39.928059</td>\n",
       "      <td>-82.831184</td>\n",
       "      <td>NaN</td>\n",
       "      <td>NaN</td>\n",
       "      <td>...</td>\n",
       "      <td>False</td>\n",
       "      <td>False</td>\n",
       "      <td>False</td>\n",
       "      <td>False</td>\n",
       "      <td>False</td>\n",
       "      <td>False</td>\n",
       "      <td>Night</td>\n",
       "      <td>Night</td>\n",
       "      <td>Night</td>\n",
       "      <td>Day</td>\n",
       "    </tr>\n",
       "    <tr>\n",
       "      <th>2</th>\n",
       "      <td>A-3</td>\n",
       "      <td>MapQuest</td>\n",
       "      <td>201.0</td>\n",
       "      <td>2</td>\n",
       "      <td>2016-02-08 06:49:27</td>\n",
       "      <td>2016-02-08 07:19:27</td>\n",
       "      <td>39.063148</td>\n",
       "      <td>-84.032608</td>\n",
       "      <td>NaN</td>\n",
       "      <td>NaN</td>\n",
       "      <td>...</td>\n",
       "      <td>False</td>\n",
       "      <td>False</td>\n",
       "      <td>False</td>\n",
       "      <td>False</td>\n",
       "      <td>True</td>\n",
       "      <td>False</td>\n",
       "      <td>Night</td>\n",
       "      <td>Night</td>\n",
       "      <td>Day</td>\n",
       "      <td>Day</td>\n",
       "    </tr>\n",
       "    <tr>\n",
       "      <th>3</th>\n",
       "      <td>A-4</td>\n",
       "      <td>MapQuest</td>\n",
       "      <td>201.0</td>\n",
       "      <td>3</td>\n",
       "      <td>2016-02-08 07:23:34</td>\n",
       "      <td>2016-02-08 07:53:34</td>\n",
       "      <td>39.747753</td>\n",
       "      <td>-84.205582</td>\n",
       "      <td>NaN</td>\n",
       "      <td>NaN</td>\n",
       "      <td>...</td>\n",
       "      <td>False</td>\n",
       "      <td>False</td>\n",
       "      <td>False</td>\n",
       "      <td>False</td>\n",
       "      <td>False</td>\n",
       "      <td>False</td>\n",
       "      <td>Night</td>\n",
       "      <td>Day</td>\n",
       "      <td>Day</td>\n",
       "      <td>Day</td>\n",
       "    </tr>\n",
       "    <tr>\n",
       "      <th>4</th>\n",
       "      <td>A-5</td>\n",
       "      <td>MapQuest</td>\n",
       "      <td>201.0</td>\n",
       "      <td>2</td>\n",
       "      <td>2016-02-08 07:39:07</td>\n",
       "      <td>2016-02-08 08:09:07</td>\n",
       "      <td>39.627781</td>\n",
       "      <td>-84.188354</td>\n",
       "      <td>NaN</td>\n",
       "      <td>NaN</td>\n",
       "      <td>...</td>\n",
       "      <td>False</td>\n",
       "      <td>False</td>\n",
       "      <td>False</td>\n",
       "      <td>False</td>\n",
       "      <td>True</td>\n",
       "      <td>False</td>\n",
       "      <td>Day</td>\n",
       "      <td>Day</td>\n",
       "      <td>Day</td>\n",
       "      <td>Day</td>\n",
       "    </tr>\n",
       "  </tbody>\n",
       "</table>\n",
       "<p>5 rows × 49 columns</p>\n",
       "</div>"
      ],
      "text/plain": [
       "    ID    Source    TMC  Severity           Start_Time             End_Time  \\\n",
       "0  A-1  MapQuest  201.0         3  2016-02-08 05:46:00  2016-02-08 11:00:00   \n",
       "1  A-2  MapQuest  201.0         2  2016-02-08 06:07:59  2016-02-08 06:37:59   \n",
       "2  A-3  MapQuest  201.0         2  2016-02-08 06:49:27  2016-02-08 07:19:27   \n",
       "3  A-4  MapQuest  201.0         3  2016-02-08 07:23:34  2016-02-08 07:53:34   \n",
       "4  A-5  MapQuest  201.0         2  2016-02-08 07:39:07  2016-02-08 08:09:07   \n",
       "\n",
       "   Start_Lat  Start_Lng  End_Lat  End_Lng  ...  Roundabout Station   Stop  \\\n",
       "0  39.865147 -84.058723      NaN      NaN  ...       False   False  False   \n",
       "1  39.928059 -82.831184      NaN      NaN  ...       False   False  False   \n",
       "2  39.063148 -84.032608      NaN      NaN  ...       False   False  False   \n",
       "3  39.747753 -84.205582      NaN      NaN  ...       False   False  False   \n",
       "4  39.627781 -84.188354      NaN      NaN  ...       False   False  False   \n",
       "\n",
       "  Traffic_Calming Traffic_Signal Turning_Loop Sunrise_Sunset Civil_Twilight  \\\n",
       "0           False          False        False          Night          Night   \n",
       "1           False          False        False          Night          Night   \n",
       "2           False           True        False          Night          Night   \n",
       "3           False          False        False          Night            Day   \n",
       "4           False           True        False            Day            Day   \n",
       "\n",
       "  Nautical_Twilight Astronomical_Twilight  \n",
       "0             Night                 Night  \n",
       "1             Night                   Day  \n",
       "2               Day                   Day  \n",
       "3               Day                   Day  \n",
       "4               Day                   Day  \n",
       "\n",
       "[5 rows x 49 columns]"
      ]
     },
     "execution_count": 4,
     "metadata": {},
     "output_type": "execute_result"
    }
   ],
   "source": [
    "df.head()"
   ]
  },
  {
   "cell_type": "code",
   "execution_count": 5,
   "metadata": {},
   "outputs": [],
   "source": [
    "del df[\"Traffic_Calming\"]"
   ]
  },
  {
   "cell_type": "code",
   "execution_count": 6,
   "metadata": {},
   "outputs": [],
   "source": [
    "del df[\"Traffic_Signal\"]"
   ]
  },
  {
   "cell_type": "code",
   "execution_count": 7,
   "metadata": {},
   "outputs": [],
   "source": [
    "del df[\"Turning_Loop\"]"
   ]
  },
  {
   "cell_type": "code",
   "execution_count": 8,
   "metadata": {},
   "outputs": [],
   "source": [
    "del df[\"End_Time\"]\n",
    "del df[\"End_Lat\"]\n",
    "del df[\"End_Lng\"]\n",
    "del df[\"Precipitation(in)\"]\n",
    "del df[\"Amenity\"]\n",
    "del df[\"Bump\"]\n",
    "del df[\"Crossing\"]\n",
    "del df[\"Sunrise_Sunset\"]\n",
    "del df[\"Nautical_Twilight\"]\n",
    "del df[\"Astronomical_Twilight\"]"
   ]
  },
  {
   "cell_type": "code",
   "execution_count": 9,
   "metadata": {},
   "outputs": [],
   "source": [
    "del df[\"Description\"]"
   ]
  },
  {
   "cell_type": "code",
   "execution_count": 10,
   "metadata": {},
   "outputs": [],
   "source": [
    "del df[\"TMC\"]"
   ]
  },
  {
   "cell_type": "code",
   "execution_count": 11,
   "metadata": {},
   "outputs": [],
   "source": [
    "del df[\"Distance(mi)\"]"
   ]
  },
  {
   "cell_type": "code",
   "execution_count": 12,
   "metadata": {},
   "outputs": [
    {
     "data": {
      "text/html": [
       "<div>\n",
       "<style scoped>\n",
       "    .dataframe tbody tr th:only-of-type {\n",
       "        vertical-align: middle;\n",
       "    }\n",
       "\n",
       "    .dataframe tbody tr th {\n",
       "        vertical-align: top;\n",
       "    }\n",
       "\n",
       "    .dataframe thead th {\n",
       "        text-align: right;\n",
       "    }\n",
       "</style>\n",
       "<table border=\"1\" class=\"dataframe\">\n",
       "  <thead>\n",
       "    <tr style=\"text-align: right;\">\n",
       "      <th></th>\n",
       "      <th>ID</th>\n",
       "      <th>Source</th>\n",
       "      <th>Severity</th>\n",
       "      <th>Start_Time</th>\n",
       "      <th>Start_Lat</th>\n",
       "      <th>Start_Lng</th>\n",
       "      <th>Number</th>\n",
       "      <th>Street</th>\n",
       "      <th>Side</th>\n",
       "      <th>City</th>\n",
       "      <th>...</th>\n",
       "      <th>Wind_Speed(mph)</th>\n",
       "      <th>Weather_Condition</th>\n",
       "      <th>Give_Way</th>\n",
       "      <th>Junction</th>\n",
       "      <th>No_Exit</th>\n",
       "      <th>Railway</th>\n",
       "      <th>Roundabout</th>\n",
       "      <th>Station</th>\n",
       "      <th>Stop</th>\n",
       "      <th>Civil_Twilight</th>\n",
       "    </tr>\n",
       "  </thead>\n",
       "  <tbody>\n",
       "    <tr>\n",
       "      <th>0</th>\n",
       "      <td>A-1</td>\n",
       "      <td>MapQuest</td>\n",
       "      <td>3</td>\n",
       "      <td>2016-02-08 05:46:00</td>\n",
       "      <td>39.865147</td>\n",
       "      <td>-84.058723</td>\n",
       "      <td>NaN</td>\n",
       "      <td>I-70 E</td>\n",
       "      <td>R</td>\n",
       "      <td>Dayton</td>\n",
       "      <td>...</td>\n",
       "      <td>NaN</td>\n",
       "      <td>Light Rain</td>\n",
       "      <td>False</td>\n",
       "      <td>False</td>\n",
       "      <td>False</td>\n",
       "      <td>False</td>\n",
       "      <td>False</td>\n",
       "      <td>False</td>\n",
       "      <td>False</td>\n",
       "      <td>Night</td>\n",
       "    </tr>\n",
       "    <tr>\n",
       "      <th>1</th>\n",
       "      <td>A-2</td>\n",
       "      <td>MapQuest</td>\n",
       "      <td>2</td>\n",
       "      <td>2016-02-08 06:07:59</td>\n",
       "      <td>39.928059</td>\n",
       "      <td>-82.831184</td>\n",
       "      <td>2584.0</td>\n",
       "      <td>Brice Rd</td>\n",
       "      <td>L</td>\n",
       "      <td>Reynoldsburg</td>\n",
       "      <td>...</td>\n",
       "      <td>NaN</td>\n",
       "      <td>Light Rain</td>\n",
       "      <td>False</td>\n",
       "      <td>False</td>\n",
       "      <td>False</td>\n",
       "      <td>False</td>\n",
       "      <td>False</td>\n",
       "      <td>False</td>\n",
       "      <td>False</td>\n",
       "      <td>Night</td>\n",
       "    </tr>\n",
       "    <tr>\n",
       "      <th>2</th>\n",
       "      <td>A-3</td>\n",
       "      <td>MapQuest</td>\n",
       "      <td>2</td>\n",
       "      <td>2016-02-08 06:49:27</td>\n",
       "      <td>39.063148</td>\n",
       "      <td>-84.032608</td>\n",
       "      <td>NaN</td>\n",
       "      <td>State Route 32</td>\n",
       "      <td>R</td>\n",
       "      <td>Williamsburg</td>\n",
       "      <td>...</td>\n",
       "      <td>3.5</td>\n",
       "      <td>Overcast</td>\n",
       "      <td>False</td>\n",
       "      <td>False</td>\n",
       "      <td>False</td>\n",
       "      <td>False</td>\n",
       "      <td>False</td>\n",
       "      <td>False</td>\n",
       "      <td>False</td>\n",
       "      <td>Night</td>\n",
       "    </tr>\n",
       "    <tr>\n",
       "      <th>3</th>\n",
       "      <td>A-4</td>\n",
       "      <td>MapQuest</td>\n",
       "      <td>3</td>\n",
       "      <td>2016-02-08 07:23:34</td>\n",
       "      <td>39.747753</td>\n",
       "      <td>-84.205582</td>\n",
       "      <td>NaN</td>\n",
       "      <td>I-75 S</td>\n",
       "      <td>R</td>\n",
       "      <td>Dayton</td>\n",
       "      <td>...</td>\n",
       "      <td>4.6</td>\n",
       "      <td>Mostly Cloudy</td>\n",
       "      <td>False</td>\n",
       "      <td>False</td>\n",
       "      <td>False</td>\n",
       "      <td>False</td>\n",
       "      <td>False</td>\n",
       "      <td>False</td>\n",
       "      <td>False</td>\n",
       "      <td>Day</td>\n",
       "    </tr>\n",
       "    <tr>\n",
       "      <th>4</th>\n",
       "      <td>A-5</td>\n",
       "      <td>MapQuest</td>\n",
       "      <td>2</td>\n",
       "      <td>2016-02-08 07:39:07</td>\n",
       "      <td>39.627781</td>\n",
       "      <td>-84.188354</td>\n",
       "      <td>NaN</td>\n",
       "      <td>Miamisburg Centerville Rd</td>\n",
       "      <td>R</td>\n",
       "      <td>Dayton</td>\n",
       "      <td>...</td>\n",
       "      <td>3.5</td>\n",
       "      <td>Mostly Cloudy</td>\n",
       "      <td>False</td>\n",
       "      <td>False</td>\n",
       "      <td>False</td>\n",
       "      <td>False</td>\n",
       "      <td>False</td>\n",
       "      <td>False</td>\n",
       "      <td>False</td>\n",
       "      <td>Day</td>\n",
       "    </tr>\n",
       "  </tbody>\n",
       "</table>\n",
       "<p>5 rows × 33 columns</p>\n",
       "</div>"
      ],
      "text/plain": [
       "    ID    Source  Severity           Start_Time  Start_Lat  Start_Lng  Number  \\\n",
       "0  A-1  MapQuest         3  2016-02-08 05:46:00  39.865147 -84.058723     NaN   \n",
       "1  A-2  MapQuest         2  2016-02-08 06:07:59  39.928059 -82.831184  2584.0   \n",
       "2  A-3  MapQuest         2  2016-02-08 06:49:27  39.063148 -84.032608     NaN   \n",
       "3  A-4  MapQuest         3  2016-02-08 07:23:34  39.747753 -84.205582     NaN   \n",
       "4  A-5  MapQuest         2  2016-02-08 07:39:07  39.627781 -84.188354     NaN   \n",
       "\n",
       "                      Street Side          City  ... Wind_Speed(mph)  \\\n",
       "0                     I-70 E    R        Dayton  ...             NaN   \n",
       "1                   Brice Rd    L  Reynoldsburg  ...             NaN   \n",
       "2             State Route 32    R  Williamsburg  ...             3.5   \n",
       "3                     I-75 S    R        Dayton  ...             4.6   \n",
       "4  Miamisburg Centerville Rd    R        Dayton  ...             3.5   \n",
       "\n",
       "  Weather_Condition Give_Way Junction No_Exit Railway Roundabout  Station  \\\n",
       "0        Light Rain    False    False   False   False      False    False   \n",
       "1        Light Rain    False    False   False   False      False    False   \n",
       "2          Overcast    False    False   False   False      False    False   \n",
       "3     Mostly Cloudy    False    False   False   False      False    False   \n",
       "4     Mostly Cloudy    False    False   False   False      False    False   \n",
       "\n",
       "    Stop  Civil_Twilight  \n",
       "0  False           Night  \n",
       "1  False           Night  \n",
       "2  False           Night  \n",
       "3  False             Day  \n",
       "4  False             Day  \n",
       "\n",
       "[5 rows x 33 columns]"
      ]
     },
     "execution_count": 12,
     "metadata": {},
     "output_type": "execute_result"
    }
   ],
   "source": [
    "df.head()"
   ]
  },
  {
   "cell_type": "code",
   "execution_count": 13,
   "metadata": {},
   "outputs": [],
   "source": [
    "df = df.dropna(how='any')"
   ]
  },
  {
   "cell_type": "code",
   "execution_count": 14,
   "metadata": {},
   "outputs": [
    {
     "data": {
      "text/plain": [
       "Day      474919\n",
       "Night    124437\n",
       "Name: Civil_Twilight, dtype: int64"
      ]
     },
     "execution_count": 14,
     "metadata": {},
     "output_type": "execute_result"
    }
   ],
   "source": [
    "df[\"Civil_Twilight\"].value_counts()"
   ]
  },
  {
   "cell_type": "code",
   "execution_count": 15,
   "metadata": {},
   "outputs": [],
   "source": [
    "night_count = df[\"Civil_Twilight\"].value_counts()"
   ]
  },
  {
   "cell_type": "code",
   "execution_count": 16,
   "metadata": {},
   "outputs": [
    {
     "data": {
      "text/plain": [
       "Day      474919\n",
       "Night    124437\n",
       "Name: Civil_Twilight, dtype: int64"
      ]
     },
     "execution_count": 16,
     "metadata": {},
     "output_type": "execute_result"
    }
   ],
   "source": [
    "night_count.head()"
   ]
  },
  {
   "cell_type": "code",
   "execution_count": 17,
   "metadata": {},
   "outputs": [],
   "source": [
    "accident_count = night_count.sum()"
   ]
  },
  {
   "cell_type": "code",
   "execution_count": 18,
   "metadata": {},
   "outputs": [
    {
     "data": {
      "text/plain": [
       "599356"
      ]
     },
     "execution_count": 18,
     "metadata": {},
     "output_type": "execute_result"
    }
   ],
   "source": [
    "accident_count"
   ]
  },
  {
   "cell_type": "code",
   "execution_count": 19,
   "metadata": {},
   "outputs": [],
   "source": [
    "workable_data = pd.DataFrame(df[\"Civil_Twilight\"])"
   ]
  },
  {
   "cell_type": "code",
   "execution_count": 20,
   "metadata": {},
   "outputs": [],
   "source": [
    "new_df = df[['ID', 'Source', 'Severity','Start_Time','Start_Lat', 'Start_Lng','Street','City','State', 'Zipcode', 'Civil_Twilight']].copy()"
   ]
  },
  {
   "cell_type": "code",
   "execution_count": 21,
   "metadata": {},
   "outputs": [],
   "source": [
    "mask = new_df['Start_Time'] > '2020-03-01 00:00:00'"
   ]
  },
  {
   "cell_type": "code",
   "execution_count": 22,
   "metadata": {},
   "outputs": [
    {
     "name": "stderr",
     "output_type": "stream",
     "text": [
      "/Users/WillPumphrey/opt/anaconda3/lib/python3.7/site-packages/ipykernel_launcher.py:2: SettingWithCopyWarning: \n",
      "A value is trying to be set on a copy of a slice from a DataFrame\n",
      "\n",
      "See the caveats in the documentation: https://pandas.pydata.org/pandas-docs/stable/user_guide/indexing.html#returning-a-view-versus-a-copy\n",
      "  \n"
     ]
    },
    {
     "data": {
      "text/html": [
       "<div>\n",
       "<style scoped>\n",
       "    .dataframe tbody tr th:only-of-type {\n",
       "        vertical-align: middle;\n",
       "    }\n",
       "\n",
       "    .dataframe tbody tr th {\n",
       "        vertical-align: top;\n",
       "    }\n",
       "\n",
       "    .dataframe thead th {\n",
       "        text-align: right;\n",
       "    }\n",
       "</style>\n",
       "<table border=\"1\" class=\"dataframe\">\n",
       "  <thead>\n",
       "    <tr style=\"text-align: right;\">\n",
       "      <th></th>\n",
       "      <th>ID</th>\n",
       "      <th>Source</th>\n",
       "      <th>Severity</th>\n",
       "      <th>Start_Time</th>\n",
       "      <th>Start_Lat</th>\n",
       "      <th>Start_Lng</th>\n",
       "      <th>Street</th>\n",
       "      <th>City</th>\n",
       "      <th>State</th>\n",
       "      <th>Zipcode</th>\n",
       "      <th>Civil_Twilight</th>\n",
       "    </tr>\n",
       "  </thead>\n",
       "  <tbody>\n",
       "    <tr>\n",
       "      <th>129416</th>\n",
       "      <td>A-2945289</td>\n",
       "      <td>Bing</td>\n",
       "      <td>2</td>\n",
       "      <td>2020-03-01 00:19:36</td>\n",
       "      <td>44.932780</td>\n",
       "      <td>-123.149540</td>\n",
       "      <td>Willamina-Salem Hwy</td>\n",
       "      <td>Independence</td>\n",
       "      <td>OR</td>\n",
       "      <td>97351-9685</td>\n",
       "      <td>Night</td>\n",
       "    </tr>\n",
       "    <tr>\n",
       "      <th>129417</th>\n",
       "      <td>A-2945288</td>\n",
       "      <td>Bing</td>\n",
       "      <td>2</td>\n",
       "      <td>2020-03-01 00:12:31</td>\n",
       "      <td>45.463410</td>\n",
       "      <td>-123.782980</td>\n",
       "      <td>Wilson River Hwy</td>\n",
       "      <td>Tillamook</td>\n",
       "      <td>OR</td>\n",
       "      <td>97141-9744</td>\n",
       "      <td>Night</td>\n",
       "    </tr>\n",
       "    <tr>\n",
       "      <th>129418</th>\n",
       "      <td>A-2945377</td>\n",
       "      <td>Bing</td>\n",
       "      <td>2</td>\n",
       "      <td>2020-03-01 00:09:00</td>\n",
       "      <td>40.589846</td>\n",
       "      <td>-122.460812</td>\n",
       "      <td>Eureka Way</td>\n",
       "      <td>Redding</td>\n",
       "      <td>CA</td>\n",
       "      <td>96001</td>\n",
       "      <td>Night</td>\n",
       "    </tr>\n",
       "    <tr>\n",
       "      <th>129419</th>\n",
       "      <td>A-2945595</td>\n",
       "      <td>Bing</td>\n",
       "      <td>2</td>\n",
       "      <td>2020-03-01 00:09:00</td>\n",
       "      <td>34.040094</td>\n",
       "      <td>-118.579258</td>\n",
       "      <td>Pacific Coast Hwy</td>\n",
       "      <td>Malibu</td>\n",
       "      <td>CA</td>\n",
       "      <td>90265-5500</td>\n",
       "      <td>Night</td>\n",
       "    </tr>\n",
       "    <tr>\n",
       "      <th>129420</th>\n",
       "      <td>A-2945375</td>\n",
       "      <td>Bing</td>\n",
       "      <td>2</td>\n",
       "      <td>2020-03-01 00:07:00</td>\n",
       "      <td>38.588726</td>\n",
       "      <td>-122.607046</td>\n",
       "      <td>Tubbs Ln</td>\n",
       "      <td>Calistoga</td>\n",
       "      <td>CA</td>\n",
       "      <td>94515-1055</td>\n",
       "      <td>Night</td>\n",
       "    </tr>\n",
       "  </tbody>\n",
       "</table>\n",
       "</div>"
      ],
      "text/plain": [
       "               ID Source  Severity           Start_Time  Start_Lat  \\\n",
       "129416  A-2945289   Bing         2  2020-03-01 00:19:36  44.932780   \n",
       "129417  A-2945288   Bing         2  2020-03-01 00:12:31  45.463410   \n",
       "129418  A-2945377   Bing         2  2020-03-01 00:09:00  40.589846   \n",
       "129419  A-2945595   Bing         2  2020-03-01 00:09:00  34.040094   \n",
       "129420  A-2945375   Bing         2  2020-03-01 00:07:00  38.588726   \n",
       "\n",
       "         Start_Lng                Street          City State     Zipcode  \\\n",
       "129416 -123.149540   Willamina-Salem Hwy  Independence    OR  97351-9685   \n",
       "129417 -123.782980      Wilson River Hwy     Tillamook    OR  97141-9744   \n",
       "129418 -122.460812            Eureka Way       Redding    CA       96001   \n",
       "129419 -118.579258     Pacific Coast Hwy        Malibu    CA  90265-5500   \n",
       "129420 -122.607046              Tubbs Ln     Calistoga    CA  94515-1055   \n",
       "\n",
       "       Civil_Twilight  \n",
       "129416          Night  \n",
       "129417          Night  \n",
       "129418          Night  \n",
       "129419          Night  \n",
       "129420          Night  "
      ]
     },
     "execution_count": 22,
     "metadata": {},
     "output_type": "execute_result"
    }
   ],
   "source": [
    "final_df = new_df.loc[mask]\n",
    "final_df.sort_values('Start_Time', ascending=False, inplace=True)\n",
    "final_df.reset_index(drop=True, inplace=True)\n",
    "final_df.tail(5)"
   ]
  },
  {
   "cell_type": "code",
   "execution_count": 23,
   "metadata": {},
   "outputs": [
    {
     "name": "stdout",
     "output_type": "stream",
     "text": [
      "0         2020-06-30 23:18:09\n",
      "1         2020-06-30 22:38:08\n",
      "2         2020-06-30 22:33:16\n",
      "3         2020-06-30 22:32:13\n",
      "4         2020-06-30 22:20:47\n",
      "                 ...         \n",
      "129416    2020-03-01 00:19:36\n",
      "129417    2020-03-01 00:12:31\n",
      "129418    2020-03-01 00:09:00\n",
      "129419    2020-03-01 00:09:00\n",
      "129420    2020-03-01 00:07:00\n",
      "Name: Start_Time, Length: 129421, dtype: object\n"
     ]
    }
   ],
   "source": [
    "time = final_df['Start_Time']\n",
    "print(time)"
   ]
  },
  {
   "cell_type": "code",
   "execution_count": null,
   "metadata": {},
   "outputs": [],
   "source": []
  },
  {
   "cell_type": "code",
   "execution_count": 24,
   "metadata": {},
   "outputs": [
    {
     "data": {
      "text/plain": [
       "Day      474919\n",
       "Night    124437\n",
       "Name: Civil_Twilight, dtype: int64"
      ]
     },
     "execution_count": 24,
     "metadata": {},
     "output_type": "execute_result"
    }
   ],
   "source": [
    "night_count.head()"
   ]
  },
  {
   "cell_type": "code",
   "execution_count": 25,
   "metadata": {},
   "outputs": [
    {
     "data": {
      "text/html": [
       "<div>\n",
       "<style scoped>\n",
       "    .dataframe tbody tr th:only-of-type {\n",
       "        vertical-align: middle;\n",
       "    }\n",
       "\n",
       "    .dataframe tbody tr th {\n",
       "        vertical-align: top;\n",
       "    }\n",
       "\n",
       "    .dataframe thead th {\n",
       "        text-align: right;\n",
       "    }\n",
       "</style>\n",
       "<table border=\"1\" class=\"dataframe\">\n",
       "  <thead>\n",
       "    <tr style=\"text-align: right;\">\n",
       "      <th></th>\n",
       "      <th>ID</th>\n",
       "      <th>Source</th>\n",
       "      <th>Severity</th>\n",
       "      <th>Start_Time</th>\n",
       "      <th>Start_Lat</th>\n",
       "      <th>Start_Lng</th>\n",
       "      <th>Street</th>\n",
       "      <th>City</th>\n",
       "      <th>State</th>\n",
       "      <th>Zipcode</th>\n",
       "      <th>Civil_Twilight</th>\n",
       "    </tr>\n",
       "  </thead>\n",
       "  <tbody>\n",
       "    <tr>\n",
       "      <th>0</th>\n",
       "      <td>A-560480</td>\n",
       "      <td>MapQuest</td>\n",
       "      <td>3</td>\n",
       "      <td>2020-06-30 23:18:09</td>\n",
       "      <td>38.189991</td>\n",
       "      <td>-85.766731</td>\n",
       "      <td>Southern Pkwy</td>\n",
       "      <td>Louisville</td>\n",
       "      <td>KY</td>\n",
       "      <td>40214-1508</td>\n",
       "      <td>Night</td>\n",
       "    </tr>\n",
       "    <tr>\n",
       "      <th>1</th>\n",
       "      <td>A-561278</td>\n",
       "      <td>MapQuest</td>\n",
       "      <td>2</td>\n",
       "      <td>2020-06-30 22:38:08</td>\n",
       "      <td>36.131069</td>\n",
       "      <td>-86.775887</td>\n",
       "      <td>Prentice Ave</td>\n",
       "      <td>Nashville</td>\n",
       "      <td>TN</td>\n",
       "      <td>37204-2297</td>\n",
       "      <td>Night</td>\n",
       "    </tr>\n",
       "    <tr>\n",
       "      <th>2</th>\n",
       "      <td>A-561276</td>\n",
       "      <td>MapQuest</td>\n",
       "      <td>2</td>\n",
       "      <td>2020-06-30 22:33:16</td>\n",
       "      <td>33.189709</td>\n",
       "      <td>-87.558449</td>\n",
       "      <td>Greensboro Ave</td>\n",
       "      <td>Tuscaloosa</td>\n",
       "      <td>AL</td>\n",
       "      <td>35401-6521</td>\n",
       "      <td>Night</td>\n",
       "    </tr>\n",
       "    <tr>\n",
       "      <th>3</th>\n",
       "      <td>A-561277</td>\n",
       "      <td>MapQuest</td>\n",
       "      <td>2</td>\n",
       "      <td>2020-06-30 22:32:13</td>\n",
       "      <td>36.250408</td>\n",
       "      <td>-86.699120</td>\n",
       "      <td>Howse Ave</td>\n",
       "      <td>Madison</td>\n",
       "      <td>TN</td>\n",
       "      <td>37115-4958</td>\n",
       "      <td>Night</td>\n",
       "    </tr>\n",
       "    <tr>\n",
       "      <th>4</th>\n",
       "      <td>A-561275</td>\n",
       "      <td>MapQuest</td>\n",
       "      <td>2</td>\n",
       "      <td>2020-06-30 22:20:47</td>\n",
       "      <td>34.753803</td>\n",
       "      <td>-86.741837</td>\n",
       "      <td>Highway 72 W</td>\n",
       "      <td>Madison</td>\n",
       "      <td>AL</td>\n",
       "      <td>35758-9558</td>\n",
       "      <td>Night</td>\n",
       "    </tr>\n",
       "    <tr>\n",
       "      <th>9</th>\n",
       "      <td>A-561267</td>\n",
       "      <td>MapQuest</td>\n",
       "      <td>2</td>\n",
       "      <td>2020-06-30 20:31:45</td>\n",
       "      <td>36.184750</td>\n",
       "      <td>-86.815666</td>\n",
       "      <td>24th Ave N</td>\n",
       "      <td>Nashville</td>\n",
       "      <td>TN</td>\n",
       "      <td>37208-1005</td>\n",
       "      <td>Day</td>\n",
       "    </tr>\n",
       "    <tr>\n",
       "      <th>10</th>\n",
       "      <td>A-561265</td>\n",
       "      <td>MapQuest</td>\n",
       "      <td>2</td>\n",
       "      <td>2020-06-30 20:24:30</td>\n",
       "      <td>36.071869</td>\n",
       "      <td>-86.636238</td>\n",
       "      <td>Bell Rd</td>\n",
       "      <td>Antioch</td>\n",
       "      <td>TN</td>\n",
       "      <td>37013-2001</td>\n",
       "      <td>Day</td>\n",
       "    </tr>\n",
       "    <tr>\n",
       "      <th>11</th>\n",
       "      <td>A-561264</td>\n",
       "      <td>MapQuest</td>\n",
       "      <td>2</td>\n",
       "      <td>2020-06-30 20:22:05</td>\n",
       "      <td>36.050800</td>\n",
       "      <td>-86.646919</td>\n",
       "      <td>Hickory Hollow Ter</td>\n",
       "      <td>Antioch</td>\n",
       "      <td>TN</td>\n",
       "      <td>37013-2646</td>\n",
       "      <td>Day</td>\n",
       "    </tr>\n",
       "    <tr>\n",
       "      <th>12</th>\n",
       "      <td>A-561482</td>\n",
       "      <td>MapQuest</td>\n",
       "      <td>2</td>\n",
       "      <td>2020-06-30 19:57:22</td>\n",
       "      <td>39.509411</td>\n",
       "      <td>-119.781822</td>\n",
       "      <td>Villanova Dr</td>\n",
       "      <td>Reno</td>\n",
       "      <td>NV</td>\n",
       "      <td>89502</td>\n",
       "      <td>Day</td>\n",
       "    </tr>\n",
       "    <tr>\n",
       "      <th>13</th>\n",
       "      <td>A-560849</td>\n",
       "      <td>MapQuest</td>\n",
       "      <td>2</td>\n",
       "      <td>2020-06-30 19:53:01</td>\n",
       "      <td>33.867962</td>\n",
       "      <td>-78.639458</td>\n",
       "      <td>Mini Market Rd</td>\n",
       "      <td>Little River</td>\n",
       "      <td>SC</td>\n",
       "      <td>29566-6426</td>\n",
       "      <td>Day</td>\n",
       "    </tr>\n",
       "  </tbody>\n",
       "</table>\n",
       "</div>"
      ],
      "text/plain": [
       "          ID    Source  Severity           Start_Time  Start_Lat   Start_Lng  \\\n",
       "0   A-560480  MapQuest         3  2020-06-30 23:18:09  38.189991  -85.766731   \n",
       "1   A-561278  MapQuest         2  2020-06-30 22:38:08  36.131069  -86.775887   \n",
       "2   A-561276  MapQuest         2  2020-06-30 22:33:16  33.189709  -87.558449   \n",
       "3   A-561277  MapQuest         2  2020-06-30 22:32:13  36.250408  -86.699120   \n",
       "4   A-561275  MapQuest         2  2020-06-30 22:20:47  34.753803  -86.741837   \n",
       "9   A-561267  MapQuest         2  2020-06-30 20:31:45  36.184750  -86.815666   \n",
       "10  A-561265  MapQuest         2  2020-06-30 20:24:30  36.071869  -86.636238   \n",
       "11  A-561264  MapQuest         2  2020-06-30 20:22:05  36.050800  -86.646919   \n",
       "12  A-561482  MapQuest         2  2020-06-30 19:57:22  39.509411 -119.781822   \n",
       "13  A-560849  MapQuest         2  2020-06-30 19:53:01  33.867962  -78.639458   \n",
       "\n",
       "                Street          City State     Zipcode Civil_Twilight  \n",
       "0        Southern Pkwy    Louisville    KY  40214-1508          Night  \n",
       "1         Prentice Ave     Nashville    TN  37204-2297          Night  \n",
       "2       Greensboro Ave    Tuscaloosa    AL  35401-6521          Night  \n",
       "3            Howse Ave       Madison    TN  37115-4958          Night  \n",
       "4         Highway 72 W       Madison    AL  35758-9558          Night  \n",
       "9           24th Ave N     Nashville    TN  37208-1005            Day  \n",
       "10             Bell Rd       Antioch    TN  37013-2001            Day  \n",
       "11  Hickory Hollow Ter       Antioch    TN  37013-2646            Day  \n",
       "12        Villanova Dr          Reno    NV       89502            Day  \n",
       "13      Mini Market Rd  Little River    SC  29566-6426            Day  "
      ]
     },
     "execution_count": 25,
     "metadata": {},
     "output_type": "execute_result"
    }
   ],
   "source": [
    "CT = final_df.groupby('Civil_Twilight')\n",
    "CT.head()"
   ]
  },
  {
   "cell_type": "code",
   "execution_count": 26,
   "metadata": {},
   "outputs": [
    {
     "name": "stdout",
     "output_type": "stream",
     "text": [
      "2    98120\n",
      "3    13555\n",
      "1    12167\n",
      "4     5579\n",
      "Name: Severity, dtype: int64\n"
     ]
    }
   ],
   "source": [
    "sv = final_df['Severity'].value_counts()\n",
    "print(sv)"
   ]
  },
  {
   "cell_type": "code",
   "execution_count": 27,
   "metadata": {},
   "outputs": [],
   "source": [
    "# 1 = 12167\n",
    "# 2 = 98120\n",
    "# 3 = 13555\n",
    "# 4 = 5579"
   ]
  },
  {
   "cell_type": "code",
   "execution_count": 28,
   "metadata": {},
   "outputs": [
    {
     "name": "stdout",
     "output_type": "stream",
     "text": [
      "8\n"
     ]
    }
   ],
   "source": [
    "total_acc = len('Severity')\n",
    "print(total_acc)"
   ]
  },
  {
   "cell_type": "code",
   "execution_count": 29,
   "metadata": {},
   "outputs": [
    {
     "name": "stdout",
     "output_type": "stream",
     "text": [
      "0.0940110183046028\n"
     ]
    }
   ],
   "source": [
    "sev1 = 12167/129421\n",
    "print(sev1)"
   ]
  },
  {
   "cell_type": "code",
   "execution_count": 30,
   "metadata": {},
   "outputs": [
    {
     "name": "stdout",
     "output_type": "stream",
     "text": [
      "0.7581458959519707\n"
     ]
    }
   ],
   "source": [
    "sev2 = 98120/129421\n",
    "print(sev2)"
   ]
  },
  {
   "cell_type": "code",
   "execution_count": 31,
   "metadata": {},
   "outputs": [
    {
     "name": "stdout",
     "output_type": "stream",
     "text": [
      "0.10473570749723769\n"
     ]
    }
   ],
   "source": [
    "sev3 = 13555/129421\n",
    "print(sev3)"
   ]
  },
  {
   "cell_type": "code",
   "execution_count": 32,
   "metadata": {},
   "outputs": [
    {
     "name": "stdout",
     "output_type": "stream",
     "text": [
      "0.04310737824618879\n"
     ]
    }
   ],
   "source": [
    "sev4 = 5579/129421\n",
    "print(sev4)"
   ]
  },
  {
   "cell_type": "code",
   "execution_count": 33,
   "metadata": {},
   "outputs": [],
   "source": [
    "count = final_df.groupby(['Civil_Twilight']).mean()"
   ]
  },
  {
   "cell_type": "code",
   "execution_count": 34,
   "metadata": {},
   "outputs": [
    {
     "name": "stdout",
     "output_type": "stream",
     "text": [
      "                Severity  Start_Lat  Start_Lng\n",
      "Civil_Twilight                                \n",
      "Day             2.083811  36.878092 -93.581104\n",
      "Night           2.181152  37.009604 -99.372232\n"
     ]
    }
   ],
   "source": [
    "print(count)"
   ]
  },
  {
   "cell_type": "code",
   "execution_count": 35,
   "metadata": {},
   "outputs": [
    {
     "name": "stdout",
     "output_type": "stream",
     "text": [
      "Severity      2.132481\n",
      "Start_Lat    36.943848\n",
      "Start_Lng   -96.476668\n",
      "dtype: float64\n"
     ]
    }
   ],
   "source": [
    "avg_count = count.mean()\n",
    "print(avg_count)"
   ]
  },
  {
   "cell_type": "code",
   "execution_count": 36,
   "metadata": {},
   "outputs": [],
   "source": [
    "dsv1 = final_df.groupby(['Severity'])"
   ]
  },
  {
   "cell_type": "code",
   "execution_count": null,
   "metadata": {},
   "outputs": [],
   "source": []
  },
  {
   "cell_type": "code",
   "execution_count": 37,
   "metadata": {},
   "outputs": [
    {
     "data": {
      "text/html": [
       "<div>\n",
       "<style scoped>\n",
       "    .dataframe tbody tr th:only-of-type {\n",
       "        vertical-align: middle;\n",
       "    }\n",
       "\n",
       "    .dataframe tbody tr th {\n",
       "        vertical-align: top;\n",
       "    }\n",
       "\n",
       "    .dataframe thead th {\n",
       "        text-align: right;\n",
       "    }\n",
       "</style>\n",
       "<table border=\"1\" class=\"dataframe\">\n",
       "  <thead>\n",
       "    <tr style=\"text-align: right;\">\n",
       "      <th></th>\n",
       "      <th>ID</th>\n",
       "      <th>Source</th>\n",
       "      <th>Severity</th>\n",
       "      <th>Start_Time</th>\n",
       "      <th>Start_Lat</th>\n",
       "      <th>Start_Lng</th>\n",
       "      <th>Street</th>\n",
       "      <th>City</th>\n",
       "      <th>State</th>\n",
       "      <th>Zipcode</th>\n",
       "      <th>Civil_Twilight</th>\n",
       "    </tr>\n",
       "  </thead>\n",
       "  <tbody>\n",
       "    <tr>\n",
       "      <th>0</th>\n",
       "      <td>A-560480</td>\n",
       "      <td>MapQuest</td>\n",
       "      <td>3</td>\n",
       "      <td>2020-06-30 23:18:09</td>\n",
       "      <td>38.189991</td>\n",
       "      <td>-85.766731</td>\n",
       "      <td>Southern Pkwy</td>\n",
       "      <td>Louisville</td>\n",
       "      <td>KY</td>\n",
       "      <td>40214-1508</td>\n",
       "      <td>Night</td>\n",
       "    </tr>\n",
       "    <tr>\n",
       "      <th>1</th>\n",
       "      <td>A-561278</td>\n",
       "      <td>MapQuest</td>\n",
       "      <td>2</td>\n",
       "      <td>2020-06-30 22:38:08</td>\n",
       "      <td>36.131069</td>\n",
       "      <td>-86.775887</td>\n",
       "      <td>Prentice Ave</td>\n",
       "      <td>Nashville</td>\n",
       "      <td>TN</td>\n",
       "      <td>37204-2297</td>\n",
       "      <td>Night</td>\n",
       "    </tr>\n",
       "    <tr>\n",
       "      <th>2</th>\n",
       "      <td>A-561276</td>\n",
       "      <td>MapQuest</td>\n",
       "      <td>2</td>\n",
       "      <td>2020-06-30 22:33:16</td>\n",
       "      <td>33.189709</td>\n",
       "      <td>-87.558449</td>\n",
       "      <td>Greensboro Ave</td>\n",
       "      <td>Tuscaloosa</td>\n",
       "      <td>AL</td>\n",
       "      <td>35401-6521</td>\n",
       "      <td>Night</td>\n",
       "    </tr>\n",
       "    <tr>\n",
       "      <th>3</th>\n",
       "      <td>A-561277</td>\n",
       "      <td>MapQuest</td>\n",
       "      <td>2</td>\n",
       "      <td>2020-06-30 22:32:13</td>\n",
       "      <td>36.250408</td>\n",
       "      <td>-86.699120</td>\n",
       "      <td>Howse Ave</td>\n",
       "      <td>Madison</td>\n",
       "      <td>TN</td>\n",
       "      <td>37115-4958</td>\n",
       "      <td>Night</td>\n",
       "    </tr>\n",
       "    <tr>\n",
       "      <th>4</th>\n",
       "      <td>A-561275</td>\n",
       "      <td>MapQuest</td>\n",
       "      <td>2</td>\n",
       "      <td>2020-06-30 22:20:47</td>\n",
       "      <td>34.753803</td>\n",
       "      <td>-86.741837</td>\n",
       "      <td>Highway 72 W</td>\n",
       "      <td>Madison</td>\n",
       "      <td>AL</td>\n",
       "      <td>35758-9558</td>\n",
       "      <td>Night</td>\n",
       "    </tr>\n",
       "    <tr>\n",
       "      <th>...</th>\n",
       "      <td>...</td>\n",
       "      <td>...</td>\n",
       "      <td>...</td>\n",
       "      <td>...</td>\n",
       "      <td>...</td>\n",
       "      <td>...</td>\n",
       "      <td>...</td>\n",
       "      <td>...</td>\n",
       "      <td>...</td>\n",
       "      <td>...</td>\n",
       "      <td>...</td>\n",
       "    </tr>\n",
       "    <tr>\n",
       "      <th>95</th>\n",
       "      <td>A-560913</td>\n",
       "      <td>MapQuest</td>\n",
       "      <td>2</td>\n",
       "      <td>2020-06-30 17:38:58</td>\n",
       "      <td>33.470676</td>\n",
       "      <td>-82.021721</td>\n",
       "      <td>Central Ave</td>\n",
       "      <td>Augusta</td>\n",
       "      <td>GA</td>\n",
       "      <td>30904-6203</td>\n",
       "      <td>Day</td>\n",
       "    </tr>\n",
       "    <tr>\n",
       "      <th>96</th>\n",
       "      <td>A-560912</td>\n",
       "      <td>MapQuest</td>\n",
       "      <td>2</td>\n",
       "      <td>2020-06-30 17:38:43</td>\n",
       "      <td>33.470612</td>\n",
       "      <td>-82.020393</td>\n",
       "      <td>Johns Rd</td>\n",
       "      <td>Augusta</td>\n",
       "      <td>GA</td>\n",
       "      <td>30904-4410</td>\n",
       "      <td>Day</td>\n",
       "    </tr>\n",
       "    <tr>\n",
       "      <th>97</th>\n",
       "      <td>A-560911</td>\n",
       "      <td>MapQuest</td>\n",
       "      <td>2</td>\n",
       "      <td>2020-06-30 17:38:25</td>\n",
       "      <td>33.346107</td>\n",
       "      <td>-82.004440</td>\n",
       "      <td>Old Waynesboro Rd</td>\n",
       "      <td>Augusta</td>\n",
       "      <td>GA</td>\n",
       "      <td>30906-8126</td>\n",
       "      <td>Day</td>\n",
       "    </tr>\n",
       "    <tr>\n",
       "      <th>98</th>\n",
       "      <td>A-560409</td>\n",
       "      <td>MapQuest</td>\n",
       "      <td>2</td>\n",
       "      <td>2020-06-30 17:37:12</td>\n",
       "      <td>40.100830</td>\n",
       "      <td>-75.304451</td>\n",
       "      <td>W Ridge Pike</td>\n",
       "      <td>Conshohocken</td>\n",
       "      <td>PA</td>\n",
       "      <td>19428-1016</td>\n",
       "      <td>Day</td>\n",
       "    </tr>\n",
       "    <tr>\n",
       "      <th>99</th>\n",
       "      <td>A-560432</td>\n",
       "      <td>MapQuest</td>\n",
       "      <td>2</td>\n",
       "      <td>2020-06-30 17:36:20</td>\n",
       "      <td>40.347118</td>\n",
       "      <td>-79.529793</td>\n",
       "      <td>State Route 819</td>\n",
       "      <td>Greensburg</td>\n",
       "      <td>PA</td>\n",
       "      <td>15601</td>\n",
       "      <td>Day</td>\n",
       "    </tr>\n",
       "  </tbody>\n",
       "</table>\n",
       "<p>100 rows × 11 columns</p>\n",
       "</div>"
      ],
      "text/plain": [
       "          ID    Source  Severity           Start_Time  Start_Lat  Start_Lng  \\\n",
       "0   A-560480  MapQuest         3  2020-06-30 23:18:09  38.189991 -85.766731   \n",
       "1   A-561278  MapQuest         2  2020-06-30 22:38:08  36.131069 -86.775887   \n",
       "2   A-561276  MapQuest         2  2020-06-30 22:33:16  33.189709 -87.558449   \n",
       "3   A-561277  MapQuest         2  2020-06-30 22:32:13  36.250408 -86.699120   \n",
       "4   A-561275  MapQuest         2  2020-06-30 22:20:47  34.753803 -86.741837   \n",
       "..       ...       ...       ...                  ...        ...        ...   \n",
       "95  A-560913  MapQuest         2  2020-06-30 17:38:58  33.470676 -82.021721   \n",
       "96  A-560912  MapQuest         2  2020-06-30 17:38:43  33.470612 -82.020393   \n",
       "97  A-560911  MapQuest         2  2020-06-30 17:38:25  33.346107 -82.004440   \n",
       "98  A-560409  MapQuest         2  2020-06-30 17:37:12  40.100830 -75.304451   \n",
       "99  A-560432  MapQuest         2  2020-06-30 17:36:20  40.347118 -79.529793   \n",
       "\n",
       "               Street          City State     Zipcode Civil_Twilight  \n",
       "0       Southern Pkwy    Louisville    KY  40214-1508          Night  \n",
       "1        Prentice Ave     Nashville    TN  37204-2297          Night  \n",
       "2      Greensboro Ave    Tuscaloosa    AL  35401-6521          Night  \n",
       "3           Howse Ave       Madison    TN  37115-4958          Night  \n",
       "4        Highway 72 W       Madison    AL  35758-9558          Night  \n",
       "..                ...           ...   ...         ...            ...  \n",
       "95        Central Ave       Augusta    GA  30904-6203            Day  \n",
       "96           Johns Rd       Augusta    GA  30904-4410            Day  \n",
       "97  Old Waynesboro Rd       Augusta    GA  30906-8126            Day  \n",
       "98       W Ridge Pike  Conshohocken    PA  19428-1016            Day  \n",
       "99    State Route 819    Greensburg    PA       15601            Day  \n",
       "\n",
       "[100 rows x 11 columns]"
      ]
     },
     "execution_count": 37,
     "metadata": {},
     "output_type": "execute_result"
    }
   ],
   "source": [
    "final_df[0:100]"
   ]
  },
  {
   "cell_type": "code",
   "execution_count": null,
   "metadata": {},
   "outputs": [],
   "source": []
  },
  {
   "cell_type": "code",
   "execution_count": 38,
   "metadata": {},
   "outputs": [],
   "source": [
    "final_df.to_csv('/Users/WillPumphrey/Desktop/Project 2/final_df.csv')"
   ]
  },
  {
   "cell_type": "code",
   "execution_count": null,
   "metadata": {},
   "outputs": [],
   "source": []
  }
 ],
 "metadata": {
  "kernelspec": {
   "display_name": "Python 3.7.6 64-bit ('base': conda)",
   "language": "python",
   "name": "python37664bitbaseconda9df55f0fb4a743d98eb0594784eb2319"
  },
  "language_info": {
   "codemirror_mode": {
    "name": "ipython",
    "version": 3
   },
   "file_extension": ".py",
   "mimetype": "text/x-python",
   "name": "python",
   "nbconvert_exporter": "python",
   "pygments_lexer": "ipython3",
   "version": "3.7.6"
  }
 },
 "nbformat": 4,
 "nbformat_minor": 4
}
