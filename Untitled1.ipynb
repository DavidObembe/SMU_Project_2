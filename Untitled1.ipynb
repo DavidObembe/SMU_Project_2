{
 "cells": [
  {
   "cell_type": "code",
   "execution_count": 1,
   "metadata": {},
   "outputs": [],
   "source": [
    "import pandas as pd"
   ]
  },
  {
   "cell_type": "code",
   "execution_count": 2,
   "metadata": {},
   "outputs": [],
   "source": [
    "file = \"last_6_months.csv\""
   ]
  },
  {
   "cell_type": "code",
   "execution_count": 3,
   "metadata": {},
   "outputs": [],
   "source": [
    "df = pd.read_csv(file)"
   ]
  },
  {
   "cell_type": "code",
   "execution_count": 4,
   "metadata": {},
   "outputs": [
    {
     "data": {
      "text/html": [
       "<div>\n",
       "<style scoped>\n",
       "    .dataframe tbody tr th:only-of-type {\n",
       "        vertical-align: middle;\n",
       "    }\n",
       "\n",
       "    .dataframe tbody tr th {\n",
       "        vertical-align: top;\n",
       "    }\n",
       "\n",
       "    .dataframe thead th {\n",
       "        text-align: right;\n",
       "    }\n",
       "</style>\n",
       "<table border=\"1\" class=\"dataframe\">\n",
       "  <thead>\n",
       "    <tr style=\"text-align: right;\">\n",
       "      <th></th>\n",
       "      <th>Unnamed: 0</th>\n",
       "      <th>ID</th>\n",
       "      <th>Source</th>\n",
       "      <th>Severity</th>\n",
       "      <th>Start_Time</th>\n",
       "      <th>End_Time</th>\n",
       "      <th>Start_Lat</th>\n",
       "      <th>Start_Lng</th>\n",
       "      <th>Street</th>\n",
       "      <th>City</th>\n",
       "      <th>State</th>\n",
       "      <th>Zipcode</th>\n",
       "      <th>Civil_Twilight</th>\n",
       "    </tr>\n",
       "  </thead>\n",
       "  <tbody>\n",
       "    <tr>\n",
       "      <th>0</th>\n",
       "      <td>0</td>\n",
       "      <td>A-560480</td>\n",
       "      <td>MapQuest</td>\n",
       "      <td>3</td>\n",
       "      <td>2020-06-30 23:18:09</td>\n",
       "      <td>2020-06-30 23:47:46</td>\n",
       "      <td>38.189991</td>\n",
       "      <td>-85.766731</td>\n",
       "      <td>Southern Pkwy</td>\n",
       "      <td>Louisville</td>\n",
       "      <td>KY</td>\n",
       "      <td>40214-1508</td>\n",
       "      <td>Night</td>\n",
       "    </tr>\n",
       "    <tr>\n",
       "      <th>1</th>\n",
       "      <td>1</td>\n",
       "      <td>A-561184</td>\n",
       "      <td>MapQuest</td>\n",
       "      <td>3</td>\n",
       "      <td>2020-06-30 22:56:52</td>\n",
       "      <td>2020-06-30 23:26:26</td>\n",
       "      <td>32.767036</td>\n",
       "      <td>-96.859627</td>\n",
       "      <td>Tom Landry Fwy</td>\n",
       "      <td>Dallas</td>\n",
       "      <td>TX</td>\n",
       "      <td>75212</td>\n",
       "      <td>Night</td>\n",
       "    </tr>\n",
       "    <tr>\n",
       "      <th>2</th>\n",
       "      <td>2</td>\n",
       "      <td>A-561279</td>\n",
       "      <td>MapQuest</td>\n",
       "      <td>2</td>\n",
       "      <td>2020-06-30 22:52:37</td>\n",
       "      <td>2020-06-30 23:22:24</td>\n",
       "      <td>36.096111</td>\n",
       "      <td>-86.737648</td>\n",
       "      <td>Allied Dr</td>\n",
       "      <td>Nashville</td>\n",
       "      <td>TN</td>\n",
       "      <td>37211</td>\n",
       "      <td>Night</td>\n",
       "    </tr>\n",
       "    <tr>\n",
       "      <th>3</th>\n",
       "      <td>3</td>\n",
       "      <td>A-561183</td>\n",
       "      <td>MapQuest</td>\n",
       "      <td>2</td>\n",
       "      <td>2020-06-30 22:52:02</td>\n",
       "      <td>2020-06-30 23:17:54</td>\n",
       "      <td>32.837406</td>\n",
       "      <td>-96.814911</td>\n",
       "      <td>Dallas North Tollway S</td>\n",
       "      <td>Dallas</td>\n",
       "      <td>TX</td>\n",
       "      <td>75205</td>\n",
       "      <td>Night</td>\n",
       "    </tr>\n",
       "    <tr>\n",
       "      <th>4</th>\n",
       "      <td>4</td>\n",
       "      <td>A-560284</td>\n",
       "      <td>MapQuest</td>\n",
       "      <td>3</td>\n",
       "      <td>2020-06-30 22:51:25</td>\n",
       "      <td>2020-06-30 23:20:50</td>\n",
       "      <td>41.813580</td>\n",
       "      <td>-71.404823</td>\n",
       "      <td>I-195 W</td>\n",
       "      <td>Providence</td>\n",
       "      <td>RI</td>\n",
       "      <td>02903</td>\n",
       "      <td>Night</td>\n",
       "    </tr>\n",
       "  </tbody>\n",
       "</table>\n",
       "</div>"
      ],
      "text/plain": [
       "   Unnamed: 0        ID    Source  Severity           Start_Time  \\\n",
       "0           0  A-560480  MapQuest         3  2020-06-30 23:18:09   \n",
       "1           1  A-561184  MapQuest         3  2020-06-30 22:56:52   \n",
       "2           2  A-561279  MapQuest         2  2020-06-30 22:52:37   \n",
       "3           3  A-561183  MapQuest         2  2020-06-30 22:52:02   \n",
       "4           4  A-560284  MapQuest         3  2020-06-30 22:51:25   \n",
       "\n",
       "              End_Time  Start_Lat  Start_Lng                  Street  \\\n",
       "0  2020-06-30 23:47:46  38.189991 -85.766731           Southern Pkwy   \n",
       "1  2020-06-30 23:26:26  32.767036 -96.859627          Tom Landry Fwy   \n",
       "2  2020-06-30 23:22:24  36.096111 -86.737648               Allied Dr   \n",
       "3  2020-06-30 23:17:54  32.837406 -96.814911  Dallas North Tollway S   \n",
       "4  2020-06-30 23:20:50  41.813580 -71.404823                 I-195 W   \n",
       "\n",
       "         City State     Zipcode Civil_Twilight  \n",
       "0  Louisville    KY  40214-1508          Night  \n",
       "1      Dallas    TX       75212          Night  \n",
       "2   Nashville    TN       37211          Night  \n",
       "3      Dallas    TX       75205          Night  \n",
       "4  Providence    RI       02903          Night  "
      ]
     },
     "execution_count": 4,
     "metadata": {},
     "output_type": "execute_result"
    }
   ],
   "source": [
    "df.head()"
   ]
  },
  {
   "cell_type": "code",
   "execution_count": 5,
   "metadata": {},
   "outputs": [
    {
     "name": "stdout",
     "output_type": "stream",
     "text": [
      "<class 'pandas.core.frame.DataFrame'>\n",
      "RangeIndex: 361469 entries, 0 to 361468\n",
      "Data columns (total 13 columns):\n",
      " #   Column          Non-Null Count   Dtype  \n",
      "---  ------          --------------   -----  \n",
      " 0   Unnamed: 0      361469 non-null  int64  \n",
      " 1   ID              361469 non-null  object \n",
      " 2   Source          361469 non-null  object \n",
      " 3   Severity        361469 non-null  int64  \n",
      " 4   Start_Time      361469 non-null  object \n",
      " 5   End_Time        361469 non-null  object \n",
      " 6   Start_Lat       361469 non-null  float64\n",
      " 7   Start_Lng       361469 non-null  float64\n",
      " 8   Street          361469 non-null  object \n",
      " 9   City            361443 non-null  object \n",
      " 10  State           361469 non-null  object \n",
      " 11  Zipcode         361350 non-null  object \n",
      " 12  Civil_Twilight  361443 non-null  object \n",
      "dtypes: float64(2), int64(2), object(9)\n",
      "memory usage: 35.9+ MB\n"
     ]
    }
   ],
   "source": [
    "df.info()"
   ]
  },
  {
   "cell_type": "code",
   "execution_count": 6,
   "metadata": {},
   "outputs": [],
   "source": [
    "df['Start_Time'] = pd.to_datetime(df[\"Start_Time\"],format='%Y-%m-%dT%H:%M:%S')\n",
    "df['End_Time'] = pd.to_datetime(df['End_Time'], format='%Y-%m-%dT%H:%M:%S')"
   ]
  },
  {
   "cell_type": "code",
   "execution_count": 7,
   "metadata": {},
   "outputs": [
    {
     "name": "stdout",
     "output_type": "stream",
     "text": [
      "<class 'pandas.core.frame.DataFrame'>\n",
      "RangeIndex: 361469 entries, 0 to 361468\n",
      "Data columns (total 13 columns):\n",
      " #   Column          Non-Null Count   Dtype         \n",
      "---  ------          --------------   -----         \n",
      " 0   Unnamed: 0      361469 non-null  int64         \n",
      " 1   ID              361469 non-null  object        \n",
      " 2   Source          361469 non-null  object        \n",
      " 3   Severity        361469 non-null  int64         \n",
      " 4   Start_Time      361469 non-null  datetime64[ns]\n",
      " 5   End_Time        361469 non-null  datetime64[ns]\n",
      " 6   Start_Lat       361469 non-null  float64       \n",
      " 7   Start_Lng       361469 non-null  float64       \n",
      " 8   Street          361469 non-null  object        \n",
      " 9   City            361443 non-null  object        \n",
      " 10  State           361469 non-null  object        \n",
      " 11  Zipcode         361350 non-null  object        \n",
      " 12  Civil_Twilight  361443 non-null  object        \n",
      "dtypes: datetime64[ns](2), float64(2), int64(2), object(7)\n",
      "memory usage: 35.9+ MB\n"
     ]
    }
   ],
   "source": [
    "df.info()"
   ]
  },
  {
   "cell_type": "code",
   "execution_count": 8,
   "metadata": {},
   "outputs": [],
   "source": [
    "df.to_csv('/Users/WillPumphrey/Desktop/Project 2/last_6_months2.csv')"
   ]
  },
  {
   "cell_type": "code",
   "execution_count": null,
   "metadata": {},
   "outputs": [],
   "source": []
  }
 ],
 "metadata": {
  "kernelspec": {
   "display_name": "Python 3.7.6 64-bit ('base': conda)",
   "language": "python",
   "name": "python37664bitbaseconda9df55f0fb4a743d98eb0594784eb2319"
  },
  "language_info": {
   "codemirror_mode": {
    "name": "ipython",
    "version": 3
   },
   "file_extension": ".py",
   "mimetype": "text/x-python",
   "name": "python",
   "nbconvert_exporter": "python",
   "pygments_lexer": "ipython3",
   "version": "3.7.6"
  }
 },
 "nbformat": 4,
 "nbformat_minor": 4
}
